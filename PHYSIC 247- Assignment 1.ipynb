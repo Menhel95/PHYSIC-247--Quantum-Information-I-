{
 "cells": [
  {
   "cell_type": "raw",
   "id": "bab3c1a5",
   "metadata": {},
   "source": [
    "1. Done\n",
    "Name: Menhel Almurani\n",
    "GitHub Username: Menhel95"
   ]
  },
  {
   "cell_type": "markdown",
   "id": "443576a9",
   "metadata": {},
   "source": [
    "2.Done"
   ]
  },
  {
   "cell_type": "markdown",
   "id": "2060861b",
   "metadata": {},
   "source": [
    "3. \"np.conjugate\" and \"np.dot\""
   ]
  },
  {
   "cell_type": "code",
   "execution_count": 5,
   "id": "e23eb708",
   "metadata": {},
   "outputs": [
    {
     "name": "stdout",
     "output_type": "stream",
     "text": [
      "(3+2j)\n"
     ]
    }
   ],
   "source": [
    "import numpy as np\n",
    "\n",
    "c = np.array([1, 1j, 3 - 2j])\n",
    "norm_c = np.sqrt(np.vdot(c, np.conjugate(c)))\n",
    "\n",
    "print(norm_c)  # This should output approximately 3.87298"
   ]
  },
  {
   "cell_type": "markdown",
   "id": "dc69e6cf",
   "metadata": {},
   "source": [
    "4.  "
   ]
  },
  {
   "cell_type": "code",
   "execution_count": 6,
   "id": "d311aec2",
   "metadata": {},
   "outputs": [
    {
     "name": "stdout",
     "output_type": "stream",
     "text": [
      "Eigenvalues:\n",
      "[1.-1.04672831e-16j 4.+1.04672831e-16j]\n",
      "Eigenvectors:\n",
      "[[ 0.81649658+0.j          0.40824829-0.40824829j]\n",
      " [-0.40824829-0.40824829j  0.81649658+0.j        ]]\n"
     ]
    }
   ],
   "source": [
    "import numpy as np\n",
    "\n",
    "# Define the matrix H\n",
    "H = np.array([[2, 1 - 1j], [1 + 1j, 3]])\n",
    "\n",
    "# Calculate eigenvalues and eigenvectors\n",
    "eigenvalues, eigenvectors = np.linalg.eig(H)\n",
    "\n",
    "# Output the results\n",
    "print(\"Eigenvalues:\")\n",
    "print(eigenvalues)\n",
    "\n",
    "print(\"Eigenvectors:\")\n",
    "print(eigenvectors)"
   ]
  },
  {
   "cell_type": "markdown",
   "id": "221353b4",
   "metadata": {},
   "source": []
  }
 ],
 "metadata": {
  "kernelspec": {
   "display_name": "Python 3 (ipykernel)",
   "language": "python",
   "name": "python3"
  },
  "language_info": {
   "codemirror_mode": {
    "name": "ipython",
    "version": 3
   },
   "file_extension": ".py",
   "mimetype": "text/x-python",
   "name": "python",
   "nbconvert_exporter": "python",
   "pygments_lexer": "ipython3",
   "version": "3.11.5"
  }
 },
 "nbformat": 4,
 "nbformat_minor": 5
}
